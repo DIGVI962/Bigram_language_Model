{
 "cells": [
  {
   "cell_type": "code",
   "execution_count": 1,
   "id": "8c2071ae-8c8a-42fb-bbcb-fd7e2e1cffe7",
   "metadata": {},
   "outputs": [],
   "source": [
    "import torch"
   ]
  },
  {
   "cell_type": "code",
   "execution_count": 4,
   "id": "81cbf61f-2906-4a6f-862f-ac259270cc5d",
   "metadata": {},
   "outputs": [
    {
     "data": {
      "text/plain": [
       "tensor([-41, -46,  67,   0])"
      ]
     },
     "execution_count": 4,
     "metadata": {},
     "output_type": "execute_result"
    }
   ],
   "source": [
    "random_vector = torch.randint(-100, 100, (4,))\n",
    "random_vector"
   ]
  },
  {
   "cell_type": "code",
   "execution_count": 6,
   "id": "0169a853-8144-4a8b-a638-c4c747dc2ac4",
   "metadata": {},
   "outputs": [
    {
     "data": {
      "text/plain": [
       "tensor([[0.2000, 1.2000],\n",
       "        [2.3000, 3.2000],\n",
       "        [4.5000, 5.5000]])"
      ]
     },
     "execution_count": 6,
     "metadata": {},
     "output_type": "execute_result"
    }
   ],
   "source": [
    "tensor1 = torch.tensor([[0.2, 1.2], [2.3, 3.2], [4.5, 5.5]])\n",
    "tensor1"
   ]
  },
  {
   "cell_type": "code",
   "execution_count": null,
   "id": "09898955-02e0-40b8-9265-70adccffc99d",
   "metadata": {},
   "outputs": [],
   "source": []
  },
  {
   "cell_type": "code",
   "execution_count": 7,
   "id": "50d275a8-9c8a-4a0d-a154-60a6b145d8a8",
   "metadata": {},
   "outputs": [
    {
     "data": {
      "text/plain": [
       "tensor([[0., 0., 0.],\n",
       "        [0., 0., 0.]])"
      ]
     },
     "execution_count": 7,
     "metadata": {},
     "output_type": "execute_result"
    }
   ],
   "source": [
    "zeros = torch.zeros((2, 3))\n",
    "zeros"
   ]
  },
  {
   "cell_type": "code",
   "execution_count": 9,
   "id": "9296a366-902f-49e9-a385-b511bf280f23",
   "metadata": {},
   "outputs": [
    {
     "data": {
      "text/plain": [
       "tensor([[1., 1., 1., 1., 1.],\n",
       "        [1., 1., 1., 1., 1.],\n",
       "        [1., 1., 1., 1., 1.]])"
      ]
     },
     "execution_count": 9,
     "metadata": {},
     "output_type": "execute_result"
    }
   ],
   "source": [
    "ones = torch.ones((3, 5))\n",
    "ones"
   ]
  },
  {
   "cell_type": "code",
   "execution_count": 10,
   "id": "1a9fdccf-06fc-4903-bf21-9c6c935d900a",
   "metadata": {},
   "outputs": [
    {
     "data": {
      "text/plain": [
       "tensor([[-1.8318e-04,  1.5162e-42,  0.0000e+00,  0.0000e+00],\n",
       "        [ 0.0000e+00,  0.0000e+00,  0.0000e+00,  0.0000e+00],\n",
       "        [ 0.0000e+00,  0.0000e+00,  0.0000e+00,  0.0000e+00]])"
      ]
     },
     "execution_count": 10,
     "metadata": {},
     "output_type": "execute_result"
    }
   ],
   "source": [
    "input = torch.empty((3, 4))\n",
    "input"
   ]
  },
  {
   "cell_type": "code",
   "execution_count": 14,
   "id": "ebc1e2fb-247e-4a18-9d3a-98be7b980a24",
   "metadata": {},
   "outputs": [
    {
     "data": {
      "text/plain": [
       "tensor([0, 1, 2, 3, 4])"
      ]
     },
     "execution_count": 14,
     "metadata": {},
     "output_type": "execute_result"
    }
   ],
   "source": [
    "arange = torch.arange(5)\n",
    "arange"
   ]
  },
  {
   "cell_type": "code",
   "execution_count": 18,
   "id": "103e10f4-c149-4e6e-9abb-150288abcad8",
   "metadata": {},
   "outputs": [
    {
     "data": {
      "text/plain": [
       "tensor([ 3.0000,  4.7500,  6.5000,  8.2500, 10.0000])"
      ]
     },
     "execution_count": 18,
     "metadata": {},
     "output_type": "execute_result"
    }
   ],
   "source": [
    "linspace = torch.linspace(3, 10, steps=5)\n",
    "linspace"
   ]
  },
  {
   "cell_type": "code",
   "execution_count": 16,
   "id": "bb9ab1d3-389a-4e76-9050-331d56f47381",
   "metadata": {},
   "outputs": [
    {
     "data": {
      "text/plain": [
       "tensor([1.0000e-10, 1.0000e-06, 1.0000e-02, 1.0000e+02, 1.0000e+06, 1.0000e+10])"
      ]
     },
     "execution_count": 16,
     "metadata": {},
     "output_type": "execute_result"
    }
   ],
   "source": [
    "logspace = torch.logspace(start=-10, end=10, steps=6)\n",
    "logspace"
   ]
  },
  {
   "cell_type": "code",
   "execution_count": 17,
   "id": "06a70d46-a7fc-4889-a31d-ca8f8f28ae1a",
   "metadata": {},
   "outputs": [
    {
     "data": {
      "text/plain": [
       "tensor([[1., 0., 0., 0., 0.],\n",
       "        [0., 1., 0., 0., 0.],\n",
       "        [0., 0., 1., 0., 0.],\n",
       "        [0., 0., 0., 1., 0.],\n",
       "        [0., 0., 0., 0., 1.]])"
      ]
     },
     "execution_count": 17,
     "metadata": {},
     "output_type": "execute_result"
    }
   ],
   "source": [
    "eye = torch.eye(5)\n",
    "eye"
   ]
  },
  {
   "cell_type": "code",
   "execution_count": 25,
   "id": "d9211c61-25fa-4268-bf16-1a5bcc0e1dab",
   "metadata": {},
   "outputs": [
    {
     "name": "stdout",
     "output_type": "stream",
     "text": [
      "tensor([[4650262600368,             0],\n",
      "        [            0,             0],\n",
      "        [            0,             0]])\n",
      "tensor([[0, 0],\n",
      "        [0, 0],\n",
      "        [0, 0]])\n"
     ]
    }
   ],
   "source": [
    "a = torch.empty((3, 2), dtype=torch.int64)\n",
    "print(a)\n",
    "empty_like = torch.empty_like(a)\n",
    "print(empty_like)"
   ]
  },
  {
   "cell_type": "code",
   "execution_count": 26,
   "id": "7133d281-b23f-4048-94b6-ea562d9bd3d3",
   "metadata": {},
   "outputs": [
    {
     "name": "stdout",
     "output_type": "stream",
     "text": [
      "tensor([[-1186919328,        1082],\n",
      "        [          0,           0],\n",
      "        [          0,           0]], dtype=torch.int32)\n",
      "tensor([[0, 0],\n",
      "        [0, 0],\n",
      "        [0, 0]], dtype=torch.int32)\n"
     ]
    }
   ],
   "source": [
    "a = torch.empty((3, 2), dtype=torch.int32)\n",
    "print(a)\n",
    "empty_like = torch.empty_like(a)\n",
    "print(empty_like)"
   ]
  },
  {
   "cell_type": "code",
   "execution_count": 27,
   "id": "f6e2bcc0-fdb2-4ab5-92bf-787269c96043",
   "metadata": {},
   "outputs": [
    {
     "name": "stdout",
     "output_type": "stream",
     "text": [
      "tensor([[-1.8411e-04,  1.5162e-42],\n",
      "        [ 0.0000e+00,  0.0000e+00],\n",
      "        [ 0.0000e+00,  0.0000e+00]])\n",
      "tensor([[-1.8411e-04,  1.5162e-42],\n",
      "        [ 0.0000e+00,  0.0000e+00],\n",
      "        [ 0.0000e+00,  0.0000e+00]])\n"
     ]
    }
   ],
   "source": [
    "a = torch.empty((3, 2), dtype=torch.float)\n",
    "print(a)\n",
    "empty_like = torch.empty_like(a)\n",
    "print(empty_like)"
   ]
  },
  {
   "cell_type": "code",
   "execution_count": null,
   "id": "20497f61-e7af-48dc-b7d0-12921ec3b619",
   "metadata": {},
   "outputs": [],
   "source": []
  },
  {
   "cell_type": "code",
   "execution_count": null,
   "id": "bf1c4d3c-9d04-441a-95b9-865bff58287a",
   "metadata": {},
   "outputs": [],
   "source": []
  },
  {
   "cell_type": "code",
   "execution_count": null,
   "id": "6835c776-a997-4107-8b5a-d5d687a0a3b2",
   "metadata": {},
   "outputs": [],
   "source": []
  },
  {
   "cell_type": "code",
   "execution_count": null,
   "id": "e1f1721b-03ee-481b-94a0-ba33fd0b0e63",
   "metadata": {},
   "outputs": [],
   "source": []
  },
  {
   "cell_type": "code",
   "execution_count": 29,
   "id": "5c1d5b94-8961-4db9-958c-8283b8022cbc",
   "metadata": {},
   "outputs": [
    {
     "name": "stdout",
     "output_type": "stream",
     "text": [
      "cuda\n"
     ]
    }
   ],
   "source": [
    "import torch\n",
    "import numpy as np\n",
    "import time\n",
    "device = 'cuda' if torch.cuda.is_available() else 'cpu'\n",
    "print(device)"
   ]
  },
  {
   "cell_type": "code",
   "execution_count": 60,
   "id": "0eba0184-0ae2-4bdb-a885-6d4f8ce735d7",
   "metadata": {},
   "outputs": [
    {
     "name": "stdout",
     "output_type": "stream",
     "text": [
      "0.00000000\n",
      "CPU times: total: 0 ns\n",
      "Wall time: 998 µs\n"
     ]
    }
   ],
   "source": [
    "%%time\n",
    "\n",
    "start_time = time.time()\n",
    "#matrix operation\n",
    "zeros = torch.zeros((3, 4))\n",
    "end_time = time.time()\n",
    "\n",
    "elapsed_time = end_time - start_time\n",
    "print(f'{elapsed_time:.8f}')"
   ]
  },
  {
   "cell_type": "code",
   "execution_count": 61,
   "id": "388521cf-563b-432c-99d1-712e0491d9c6",
   "metadata": {},
   "outputs": [
    {
     "name": "stdout",
     "output_type": "stream",
     "text": [
      "0.00099730\n",
      "0.14025092\n",
      "CPU times: total: 1.97 s\n",
      "Wall time: 2.23 s\n"
     ]
    }
   ],
   "source": [
    "%%time\n",
    "\n",
    "rand1 = torch.randn(100, 100, 100, 100).to(device)\n",
    "rand2 = torch.randn(100, 100, 100, 100).to(device)\n",
    "\n",
    "torch_rand1 = rand1.to(device)\n",
    "torch_rand2 = rand2.to(device)\n",
    "np_rand1 = rand1.cpu()\n",
    "np_rand2 = rand2.cpu()\n",
    "\n",
    "start_time = time.time()\n",
    "# GPU_Pytorch matrix multiplication\n",
    "torch_rand3 = (torch_rand1 @ torch_rand2)\n",
    "end_time = time.time()\n",
    "elapsed_time = end_time - start_time\n",
    "print(f'{elapsed_time:.8f}')\n",
    "\n",
    "start_time = time.time()\n",
    "# Numpy matrix multiplication\n",
    "np_rand3 = np.multiply(np_rand1, np_rand2)\n",
    "end_time = time.time()\n",
    "elapsed_time = end_time - start_time\n",
    "print(f'{elapsed_time:.8f}')\n",
    "\n",
    "#print('GPU_Pytorch: ', torch_rand3)\n",
    "#print('CPU_Numpy: ', np_rand3)"
   ]
  },
  {
   "cell_type": "code",
   "execution_count": 62,
   "id": "dfbaed46-38ee-42ef-ac62-4bf7bf8ddfd4",
   "metadata": {},
   "outputs": [
    {
     "name": "stdout",
     "output_type": "stream",
     "text": [
      "tensor([0, 1, 0, 1, 1, 1, 1, 1, 1, 1])\n"
     ]
    }
   ],
   "source": [
    "# embeddings, torch.stack, torch.multinomial, torch.tril, torch.triu, input.T / input.transpose, nn.Linear, torch.cat, F.softmax (show all the examples of functions/methods with pytorch docs)\n",
    "\n",
    "\n",
    "# Define a probability tensor\n",
    "probabilities = torch.tensor([0.1, 0.9])\n",
    "# 10% or 0.1 => 0, 90% or 0.9 => 1. each probability points to the index of the probability in the tensor\n",
    "# Draw 5 samples from the multinomial distribution\n",
    "samples = torch.multinomial(probabilities, num_samples=10, replacement=True)\n",
    "print(samples)"
   ]
  },
  {
   "cell_type": "code",
   "execution_count": 63,
   "id": "b0f73509-bd4a-48c5-b450-b665e809c7d4",
   "metadata": {},
   "outputs": [
    {
     "data": {
      "text/plain": [
       "tensor([1, 2, 3, 4, 5])"
      ]
     },
     "execution_count": 63,
     "metadata": {},
     "output_type": "execute_result"
    }
   ],
   "source": [
    "tensor = torch.tensor([1, 2, 3, 4])\n",
    "out = torch.cat((tensor, torch.tensor([5])), dim=0)\n",
    "out"
   ]
  },
  {
   "cell_type": "code",
   "execution_count": 72,
   "id": "cc9d4068-301d-43e1-b1e4-e7864411be20",
   "metadata": {},
   "outputs": [
    {
     "data": {
      "text/plain": [
       "tensor([[1., 0., 0., 0., 0.],\n",
       "        [1., 1., 0., 0., 0.],\n",
       "        [1., 1., 1., 0., 0.],\n",
       "        [1., 1., 1., 1., 0.],\n",
       "        [1., 1., 1., 1., 1.]])"
      ]
     },
     "execution_count": 72,
     "metadata": {},
     "output_type": "execute_result"
    }
   ],
   "source": [
    "out = torch.tril(torch.ones(5, 5))\n",
    "out"
   ]
  },
  {
   "cell_type": "code",
   "execution_count": 74,
   "id": "bccea3a8-6633-43a0-b244-44f89272ca84",
   "metadata": {},
   "outputs": [
    {
     "data": {
      "text/plain": [
       "tensor([[1., 1., 1., 1., 1.],\n",
       "        [0., 1., 1., 1., 1.],\n",
       "        [0., 0., 1., 1., 1.],\n",
       "        [0., 0., 0., 1., 1.],\n",
       "        [0., 0., 0., 0., 1.]])"
      ]
     },
     "execution_count": 74,
     "metadata": {},
     "output_type": "execute_result"
    }
   ],
   "source": [
    "out = torch.triu(torch.ones(5, 5))\n",
    "out"
   ]
  },
  {
   "cell_type": "code",
   "execution_count": 70,
   "id": "95a18a2e-61de-4c30-8e9f-b2bce2290945",
   "metadata": {},
   "outputs": [
    {
     "data": {
      "text/plain": [
       "tensor([[0., -inf, -inf, -inf, -inf],\n",
       "        [0., 0., -inf, -inf, -inf],\n",
       "        [0., 0., 0., -inf, -inf],\n",
       "        [0., 0., 0., 0., -inf],\n",
       "        [0., 0., 0., 0., 0.]])"
      ]
     },
     "execution_count": 70,
     "metadata": {},
     "output_type": "execute_result"
    }
   ],
   "source": [
    "out = torch.zeros(5, 5).masked_fill(torch.tril(torch.ones(5, 5)) == 0, float('-inf'))\n",
    "out"
   ]
  },
  {
   "cell_type": "code",
   "execution_count": 71,
   "id": "529ea3af-cd28-4d6f-9d10-edd5526c2e38",
   "metadata": {},
   "outputs": [
    {
     "data": {
      "text/plain": [
       "tensor([[1., 0., 0., 0., 0.],\n",
       "        [1., 1., 0., 0., 0.],\n",
       "        [1., 1., 1., 0., 0.],\n",
       "        [1., 1., 1., 1., 0.],\n",
       "        [1., 1., 1., 1., 1.]])"
      ]
     },
     "execution_count": 71,
     "metadata": {},
     "output_type": "execute_result"
    }
   ],
   "source": [
    "torch.exp(out)"
   ]
  },
  {
   "cell_type": "code",
   "execution_count": 82,
   "id": "0abbc707-88e4-4ecb-a276-d5e4cc97e57c",
   "metadata": {},
   "outputs": [
    {
     "name": "stdout",
     "output_type": "stream",
     "text": [
      "tensor([[[-0.1888,  0.4303],\n",
      "         [-1.1499, -1.0432],\n",
      "         [-1.2526,  1.1229]],\n",
      "\n",
      "        [[ 1.2862,  0.7870],\n",
      "         [-0.8411,  1.0077],\n",
      "         [ 0.6904,  0.2301]],\n",
      "\n",
      "        [[-2.6888,  0.1164],\n",
      "         [-1.4084,  0.6388],\n",
      "         [ 0.8038, -0.9506]],\n",
      "\n",
      "        [[ 0.8082,  0.7009],\n",
      "         [ 0.2260,  0.9579],\n",
      "         [ 0.5093,  0.3698]]])\n",
      "tensor([[[-0.1888,  1.2862, -2.6888,  0.8082],\n",
      "         [-1.1499, -0.8411, -1.4084,  0.2260],\n",
      "         [-1.2526,  0.6904,  0.8038,  0.5093]],\n",
      "\n",
      "        [[ 0.4303,  0.7870,  0.1164,  0.7009],\n",
      "         [-1.0432,  1.0077,  0.6388,  0.9579],\n",
      "         [ 1.1229,  0.2301, -0.9506,  0.3698]]])\n",
      "torch.Size([2, 3, 4])\n",
      "tensor([[[-0.1888, -1.1499, -1.2526],\n",
      "         [ 1.2862, -0.8411,  0.6904],\n",
      "         [-2.6888, -1.4084,  0.8038],\n",
      "         [ 0.8082,  0.2260,  0.5093]],\n",
      "\n",
      "        [[ 0.4303, -1.0432,  1.1229],\n",
      "         [ 0.7870,  1.0077,  0.2301],\n",
      "         [ 0.1164,  0.6388, -0.9506],\n",
      "         [ 0.7009,  0.9579,  0.3698]]])\n",
      "torch.Size([2, 4, 3])\n"
     ]
    }
   ],
   "source": [
    "input = torch.randn(4, 3, 2)\n",
    "print(input)\n",
    "out = input.transpose(0, 2)\n",
    "print(out)\n",
    "print(out.shape)\n",
    "out1 = out.transpose(1, 2)\n",
    "print(out1)\n",
    "print(out1.shape)"
   ]
  },
  {
   "cell_type": "code",
   "execution_count": 85,
   "id": "75dce3f9-2944-431b-afd7-b131eba0cdb6",
   "metadata": {},
   "outputs": [
    {
     "data": {
      "text/plain": [
       "tensor([[1, 2, 3],\n",
       "        [4, 5, 6],\n",
       "        [7, 8, 9]])"
      ]
     },
     "execution_count": 85,
     "metadata": {},
     "output_type": "execute_result"
    }
   ],
   "source": [
    "tensor1 = torch.tensor([1, 2, 3])\n",
    "tensor2 = torch.tensor([4, 5, 6])\n",
    "tensor3 = torch.tensor([7, 8, 9])\n",
    "\n",
    "stacked_tensor = torch.stack([tensor1, tensor2, tensor3])\n",
    "stacked_tensor"
   ]
  },
  {
   "cell_type": "code",
   "execution_count": 95,
   "id": "f5637725-2ae7-4468-b9e8-1e54beaa70a5",
   "metadata": {},
   "outputs": [
    {
     "name": "stdout",
     "output_type": "stream",
     "text": [
      "tensor([ 1.4377, 10.5763, -9.5184], grad_fn=<SqueezeBackward4>)\n",
      "torch.Size([3])\n"
     ]
    }
   ],
   "source": [
    "import torch.nn as nn\n",
    "\n",
    "'''\n",
    "Linear\n",
    "\n",
    "(3, 3) -> input o - o output //3x3 Neuron layer\n",
    "[10., 10., 10.]  \\ /\n",
    "                o - o\n",
    "                 \\ /\n",
    "                o - o\n",
    "          \n",
    "y = weight*x + bias\n",
    "'''\n",
    "\n",
    "sample = torch.tensor([10., 10., 10.])\n",
    "linear = nn.Linear(3, 3, bias=False)\n",
    "print(linear(sample))\n",
    "print(linear(sample).size())"
   ]
  },
  {
   "cell_type": "code",
   "execution_count": 94,
   "id": "f292b11c-6e90-4f84-a185-a3729a9f5057",
   "metadata": {},
   "outputs": [
    {
     "name": "stdout",
     "output_type": "stream",
     "text": [
      "tensor([0.0900, 0.2447, 0.6652])\n"
     ]
    }
   ],
   "source": [
    "import torch.nn.functional as F\n",
    "\n",
    "'''\n",
    "Softmax\n",
    "\n",
    "[1.0, 2.0, 3.0] -> (1.0).exp + (2.0).exp + (3.0).exp\n",
    "-> 2.71 + 7.34 + 19.9 = 29.95\n",
    "\n",
    "[2.71/29.95, 7.31/29.95, 19.9/29.95] -> [0.0900, 0.2447, 0.6652]\n",
    "'''\n",
    "\n",
    "# Create a tensor\n",
    "tensor1 = torch.tensor([1.0, 2.0, 3.0])\n",
    "\n",
    "# Apply softmax using torch.nn.functional.softmax()\n",
    "softmax_output = F.softmax(tensor1, dim=0)\n",
    "\n",
    "print(softmax_output)"
   ]
  },
  {
   "cell_type": "code",
   "execution_count": 97,
   "id": "a8e98e29-282d-4fab-8fa7-b649b5ff70d4",
   "metadata": {},
   "outputs": [
    {
     "name": "stdout",
     "output_type": "stream",
     "text": [
      "torch.Size([4, 6])\n",
      "tensor([[ 1.2372,  1.0535,  0.9189, -0.1601, -1.3230, -0.3586],\n",
      "        [ 1.7451, -0.8471,  1.2860, -1.2221, -0.3387,  1.1636],\n",
      "        [ 0.7103,  0.8000, -0.0342,  1.0269,  0.7558,  1.0115],\n",
      "        [-0.4200,  0.1601,  0.4518,  0.4846, -0.9585, -0.5519]],\n",
      "       grad_fn=<EmbeddingBackward0>)\n"
     ]
    }
   ],
   "source": [
    "# Initialize an embedding layer\n",
    "vocab_size = 80\n",
    "embedding_dim = 6\n",
    "embedding = nn.Embedding(vocab_size, embedding_dim)\n",
    "\n",
    "# Create some input indices\n",
    "input_indices = torch.LongTensor([1, 5, 3, 2])\n",
    "\n",
    "# Apply the embedding layer\n",
    "embedded_output = embedding(input_indices)\n",
    "\n",
    "# The output will be a tensor of shape (4, 6), where 4 is the number of inputs\n",
    "# and 6 is the dimensionality of the embedding vectors\n",
    "print(embedded_output.shape)\n",
    "print(embedded_output)"
   ]
  },
  {
   "cell_type": "code",
   "execution_count": null,
   "id": "47dfeb4b-d6b0-4c11-acfb-4f54eb996196",
   "metadata": {},
   "outputs": [],
   "source": []
  }
 ],
 "metadata": {
  "kernelspec": {
   "display_name": "Python 3 (ipykernel)",
   "language": "python",
   "name": "python3"
  },
  "language_info": {
   "codemirror_mode": {
    "name": "ipython",
    "version": 3
   },
   "file_extension": ".py",
   "mimetype": "text/x-python",
   "name": "python",
   "nbconvert_exporter": "python",
   "pygments_lexer": "ipython3",
   "version": "3.10.6"
  }
 },
 "nbformat": 4,
 "nbformat_minor": 5
}
